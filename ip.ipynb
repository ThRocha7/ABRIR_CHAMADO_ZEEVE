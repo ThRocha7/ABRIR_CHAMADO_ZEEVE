{
 "cells": [
  {
   "cell_type": "code",
   "execution_count": 10,
   "metadata": {},
   "outputs": [],
   "source": [
    "from selenium import webdriver\n",
    "from selenium.webdriver.common.by import By\n",
    "from selenium.webdriver.support.wait import WebDriverWait\n",
    "from selenium.webdriver.support import expected_conditions as EC\n",
    "from selenium.webdriver.common.keys import Keys\n",
    "from selenium.webdriver.chrome.service import Service\n",
    "from selenium.webdriver.support.ui import Select\n",
    "import pandas as pd\n",
    "import time\n",
    "\n",
    "service = Service()\n",
    "options = webdriver.ChromeOptions()\n",
    "driver = webdriver.Chrome(service=service, options=options)\n",
    "\n",
    "driver.get('https://bildvitta.zeev.it/my/tasks?')\n"
   ]
  },
  {
   "cell_type": "code",
   "execution_count": 11,
   "metadata": {},
   "outputs": [],
   "source": [
    "def click_xpath(element):\n",
    "    try:\n",
    "        xpath = WebDriverWait(driver, 10).until(\n",
    "        EC.presence_of_element_located((By.XPATH, element))\n",
    "        )\n",
    "        xpath.click()\n",
    "    except:\n",
    "        # driver.quit()\n",
    "        print('não encontrei')\n",
    "\n",
    "def write_xpath(element, text):\n",
    "    try:\n",
    "        text = str(text)\n",
    "        xpath = WebDriverWait(driver, 10).until(\n",
    "        EC.presence_of_element_located((By.XPATH, element))\n",
    "        )\n",
    "        xpath.send_keys(text)\n",
    "    except:\n",
    "        # driver.quit()\n",
    "        print('não encontrei')\n",
    "\n",
    "\n",
    "def write_enter_xpath(element, text):\n",
    "    try:\n",
    "        text = str(text)\n",
    "        xpath = WebDriverWait(driver, 10).until(\n",
    "        EC.presence_of_element_located((By.XPATH, element))\n",
    "        )\n",
    "        xpath.send_keys(text)\n",
    "        time.sleep(1)\n",
    "        xpath.send_keys(Keys.ENTER)\n",
    "    except:\n",
    "        # driver.quit()\n",
    "        print('não encontrei')"
   ]
  },
  {
   "cell_type": "code",
   "execution_count": 13,
   "metadata": {},
   "outputs": [],
   "source": [
    "driver.execute_script(\"window.open('https://bildvitta.zeev.it/2.0/request?c=vyMcLRMFxcI2yd3uyZbJKXDhJDLasBcSIOGN12eqcGOetVtciEK2LNAtNA9%2BXSY2k%2BXl2SjzaHdFZTo41nq46w%3D%3D#top', '_blank')\")"
   ]
  },
  {
   "cell_type": "code",
   "execution_count": 12,
   "metadata": {},
   "outputs": [],
   "source": [
    "\n",
    "inicar_apps = '//*[@id=\"aSideMenuNewRequest\"]'\n",
    "click_xpath(inicar_apps)\n",
    "\n",
    "pesquisar_chamado = '//*[@id=\"txtSearch\"]'\n",
    "write_enter_xpath(pesquisar_chamado, 'Realizar Pagamento | Oracle')\n",
    "\n",
    "chamado = '//*[@id=\"containerRequests\"]/div[1]/div/div'\n",
    "chamado_certo = WebDriverWait(driver, 10).until(EC.presence_of_element_located((By.XPATH, chamado))).text\n",
    "\n",
    "if 'Realizar Pagamento | Oracle' in chamado_certo:\n",
    "    btn_solicitar = '//*[@id=\"btnRequest-31221fa2-e652-48f3-887d-1d1384b2ca20\"]'\n",
    "    click_xpath(btn_solicitar)\n",
    "    \n",
    "        \n"
   ]
  },
  {
   "cell_type": "code",
   "execution_count": 3,
   "metadata": {},
   "outputs": [
    {
     "name": "stdout",
     "output_type": "stream",
     "text": [
      "2346,25\n"
     ]
    }
   ],
   "source": [
    "import pandas as pd\n",
    "\n",
    "df = pd.read_excel('planilha_padrao_julius.xlsx')\n",
    "valor = str(df.loc[0, 'valor'])\n",
    "valor = valor.replace('.', ',')\n",
    "print(valor)"
   ]
  }
 ],
 "metadata": {
  "kernelspec": {
   "display_name": "Python 3",
   "language": "python",
   "name": "python3"
  },
  "language_info": {
   "codemirror_mode": {
    "name": "ipython",
    "version": 3
   },
   "file_extension": ".py",
   "mimetype": "text/x-python",
   "name": "python",
   "nbconvert_exporter": "python",
   "pygments_lexer": "ipython3",
   "version": "3.12.1"
  }
 },
 "nbformat": 4,
 "nbformat_minor": 2
}
